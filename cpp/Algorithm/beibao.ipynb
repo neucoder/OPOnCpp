{
 "cells": [
  {
   "cell_type": "code",
   "execution_count": 23,
   "metadata": {},
   "outputs": [],
   "source": [
    "import numpy as np\n",
    "V = [0,1,3,5,9]\n",
    "W = [0,2,3,4,7]\n",
    "n = 4\n",
    "b = 10\n",
    "F = np.zeros((n+1, b+1))\n",
    "i = np.zeros((n+1,b+1))"
   ]
  },
  {
   "cell_type": "code",
   "execution_count": 24,
   "metadata": {},
   "outputs": [
    {
     "name": "stdout",
     "output_type": "stream",
     "text": [
      "[[ 0.  0.  0.  0.  0.  0.  0.  0.  0.  0.  0.]\n",
      " [ 0.  0.  1.  1.  2.  2.  3.  3.  4.  4.  5.]\n",
      " [ 0.  0.  1.  3.  3.  4.  6.  6.  7.  9.  9.]\n",
      " [ 0.  0.  1.  3.  5.  5.  6.  8. 10. 10. 11.]\n",
      " [ 0.  0.  1.  3.  5.  5.  6.  9. 10. 10. 12.]]\n",
      "[[0. 0. 0. 0. 0. 0. 0. 0. 0. 0. 0.]\n",
      " [0. 0. 0. 0. 0. 0. 0. 0. 0. 0. 0.]\n",
      " [0. 0. 0. 1. 1. 1. 2. 2. 2. 3. 3.]\n",
      " [0. 0. 0. 0. 1. 1. 1. 1. 2. 2. 2.]\n",
      " [0. 0. 0. 0. 0. 0. 0. 1. 1. 1. 1.]]\n"
     ]
    }
   ],
   "source": [
    "for k in range(1, n+1):\n",
    "    for y in range(1, b+1):\n",
    "        if k == 1:\n",
    "            F[k][y] = y//W[k] * V[k]\n",
    "        else:\n",
    "            for yy in range(y//W[k]+1):\n",
    "                vy = y - yy * W[k]\n",
    "                if vy >= 0:\n",
    "                    F[k][y] = max(F[k-1][y], F[k-1][vy]+yy * V[k])\n",
    "                    i[k][y] = yy\n",
    "                elif vy < 0 :\n",
    "                    F[k][y] = F[k-1][y]    \n",
    "                    i[k][y] = yy\n",
    "        \n",
    "print(F)\n",
    "print(i)"
   ]
  },
  {
   "cell_type": "code",
   "execution_count": null,
   "metadata": {},
   "outputs": [],
   "source": []
  }
 ],
 "metadata": {
  "kernelspec": {
   "display_name": "Python 3",
   "language": "python",
   "name": "python3"
  },
  "language_info": {
   "codemirror_mode": {
    "name": "ipython",
    "version": 3
   },
   "file_extension": ".py",
   "mimetype": "text/x-python",
   "name": "python",
   "nbconvert_exporter": "python",
   "pygments_lexer": "ipython3",
   "version": "3.6.7"
  }
 },
 "nbformat": 4,
 "nbformat_minor": 2
}
